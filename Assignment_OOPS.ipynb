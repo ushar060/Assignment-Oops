{
  "nbformat": 4,
  "nbformat_minor": 0,
  "metadata": {
    "colab": {
      "provenance": []
    },
    "kernelspec": {
      "name": "python3",
      "display_name": "Python 3"
    },
    "language_info": {
      "name": "python"
    }
  },
  "cells": [
    {
      "cell_type": "markdown",
      "source": [
        "**Theory Questions**\n",
        "Ques 1-\n",
        "OOP (Object-Oriented Programming) – A way of programming that organizes code into objects (data + behavior).\n",
        "\n",
        "Key concepts:\n",
        "\n",
        "Class – Blueprint for objects\n",
        "\n",
        "Object – Instance of a class\n",
        "\n",
        "Encapsulation – Hide data, expose only needed parts\n",
        "\n",
        "Abstraction – Show only essential details\n",
        "\n",
        "Inheritance – Reuse code from other classes\n",
        "\n",
        "Polymorphism – Same method, different behaviors\n",
        "\n",
        "\n",
        "\n",
        "\n",
        "\n",
        "\n",
        "\n",
        "\n"
      ],
      "metadata": {
        "id": "N5EMKJL92rdr"
      }
    },
    {
      "cell_type": "markdown",
      "source": [
        "Ques 2-\n",
        "A class in OOP is a blueprint or template for creating objects, defining their attributes (data) and methods (behavior).\n"
      ],
      "metadata": {
        "id": "Oo9jEf0t24ns"
      }
    },
    {
      "cell_type": "markdown",
      "source": [
        "Ques 3-An object in OOP is an instance of a class that contains its own data and can use the class’s methods."
      ],
      "metadata": {
        "id": "rEBw2YfC3jHR"
      }
    },
    {
      "cell_type": "markdown",
      "source": [
        "Ques 4-\n",
        "Abstraction → Hides implementation details and shows only the essential features.\n",
        "Encapsulation → Bundles data and methods together and restricts direct access to the data."
      ],
      "metadata": {
        "id": "N-KSgh7430hk"
      }
    },
    {
      "cell_type": "markdown",
      "source": [
        "Ques 5-\n",
        "Dunder methods (double underscore methods) are special built-in methods in Python that start and end with __, used to define object behavior (e.g., __init__ for initialization, __str__ for string representation)."
      ],
      "metadata": {
        "id": "AAcZzR6P4Ksi"
      }
    },
    {
      "cell_type": "markdown",
      "source": [
        "QUes 6-\n",
        "Inheritance in OOP is a mechanism where one class (child/subclass) can acquire the properties and methods of another class (parent/superclass), promoting code reuse and organization."
      ],
      "metadata": {
        "id": "paqul1C-4gjf"
      }
    },
    {
      "cell_type": "markdown",
      "source": [
        "Ques 7-Polymorphism in OOP means the same function or method name can behave differently based on the object calling it, allowing different classes to define their own versions of the method."
      ],
      "metadata": {
        "id": "xcXGs-nD5gIA"
      }
    },
    {
      "cell_type": "markdown",
      "source": [
        "Ques 8-\n",
        "Encapsulation in Python is achieved by restricting direct access to object attributes using:\n",
        "\n",
        "Private members (prefix with __)\n",
        "\n",
        "Protected members (prefix with _)\n",
        "\n",
        "Getter and setter methods to control access and modification."
      ],
      "metadata": {
        "id": "ONBk9Lyw5k5a"
      }
    },
    {
      "cell_type": "markdown",
      "source": [
        "Ques 9-\n",
        "In Python, a constructor is the __init__ method that is automatically called when an object is created to initialize its attributes.\n",
        "\n"
      ],
      "metadata": {
        "id": "L_lNmVF1628Q"
      }
    },
    {
      "cell_type": "markdown",
      "source": [
        "Ques 10-\n",
        "Class Method (@classmethod) – Works with the class itself, not objects. First parameter is cls.\n",
        "\n",
        "Static Method (@staticmethod) – Belongs to the class but doesn’t access class or instance data."
      ],
      "metadata": {
        "id": "a_79eSCF7GJ1"
      }
    },
    {
      "cell_type": "markdown",
      "source": [
        "Ques 11-Method Overloading in Python – Python doesn’t support true method overloading (same method name with different parameters) like Java/C++. Instead, it’s achieved by:\n",
        "\n",
        "Using default arguments or\n",
        "\n",
        "Using *args / **kwargs to handle variable arguments."
      ],
      "metadata": {
        "id": "D1AG7ypS7LTB"
      }
    },
    {
      "cell_type": "markdown",
      "source": [
        "Ques 12-\n",
        "Method Overloading in Python – Python doesn’t support true method overloading (same method name with different parameters) like Java/C++. Instead, it’s achieved by:\n",
        "\n",
        "Using default arguments or\n",
        "\n",
        "Using *args / **kwargs to handle variable arguments."
      ],
      "metadata": {
        "id": "scG7FrSd7YOe"
      }
    },
    {
      "cell_type": "markdown",
      "source": [
        "Ques 13-\n",
        "Property Decorator in Python – @property is used to make a method act like an attribute, allowing controlled access (getter/setter) without changing the attribute syntax.\n",
        "\n"
      ],
      "metadata": {
        "id": "-mwDvkt270vK"
      }
    },
    {
      "cell_type": "markdown",
      "source": [
        "Ques 14-\n",
        "Polymorphism in OOP is important because it lets different objects respond to the same method name in their own way, making code more flexible, reusable, and easier to maintain.\n"
      ],
      "metadata": {
        "id": "-RepJ0wV8AIO"
      }
    },
    {
      "cell_type": "markdown",
      "source": [
        "Ques 15-\n",
        "An abstract class in Python is a class that cannot be instantiated and is meant to be subclassed, containing one or more abstract methods (declared but not implemented) defined using the abc module."
      ],
      "metadata": {
        "id": "NVUxRe7l8SFi"
      }
    },
    {
      "cell_type": "markdown",
      "source": [
        "Ques 16-\n",
        "Advantages of OOP:\n",
        "\n",
        "Modularity – Code is organized into classes, making it easier to manage.\n",
        "\n",
        "Reusability – Classes and objects can be reused across programs.\n",
        "\n",
        "Scalability – Easier to expand and maintain large projects.\n",
        "\n",
        "Data Security – Encapsulation hides sensitive data.\n",
        "\n",
        "Flexibility – Polymorphism allows different implementations with the same interface."
      ],
      "metadata": {
        "id": "M5b-Lh6C8bRm"
      }
    },
    {
      "cell_type": "markdown",
      "source": [
        "Ques 17- Difference between Class Variable and Instance Variable:\n",
        "\n",
        "Class Variable – Shared by all objects of the class; defined inside the class but outside any method.\n",
        "\n",
        "Instance Variable – Unique to each object; usually defined inside __init__() using self."
      ],
      "metadata": {
        "id": "i2I6CV158e3o"
      }
    },
    {
      "cell_type": "markdown",
      "source": [
        "Ques 18-\n",
        "It is a feature where a class can inherit attributes and methods from more than one parent class.\n",
        "\n"
      ],
      "metadata": {
        "id": "he28DPfk8njM"
      }
    },
    {
      "cell_type": "markdown",
      "source": [
        "Ques 19-\n",
        "Purpose of __str__ and __repr__ in Python:\n",
        "\n",
        "__str__ → Returns a readable or user-friendly string representation of the object (for print() or str()).\n",
        "\n",
        "__repr__ → Returns a developer-friendly and unambiguous string representation of the object (for debugging, often used in the REPL)."
      ],
      "metadata": {
        "id": "lx9tgDrq86Pm"
      }
    },
    {
      "cell_type": "markdown",
      "source": [
        "Ques 20-\n",
        "Significance of super() in Python:\n",
        "\n",
        "Used to call methods from a parent (super) class.\n",
        "\n",
        "Helps in reusing code and avoiding explicit parent class names.\n",
        "\n",
        "Especially useful in multiple inheritance to follow the Method Resolution Order (MRO)."
      ],
      "metadata": {
        "id": "1oyAL6LI9DMZ"
      }
    },
    {
      "cell_type": "markdown",
      "source": [
        "Ques 21-\n",
        "Significance of __del__ method in Python:\n",
        "\n",
        "It’s a destructor method that is called when an object is about to be destroyed (garbage collected).\n",
        "\n",
        "Used to clean up resources like closing files, releasing memory, or database connections.\n",
        "\n",
        "Not guaranteed to be called immediately when the object goes out of scope — depends on the garbage collector."
      ],
      "metadata": {
        "id": "vI3wN7We9PWw"
      }
    },
    {
      "cell_type": "markdown",
      "source": [
        "Ques 22-\n",
        "@staticmethod defines a method that does not take self or cls as the first argument and cannot access class or instance data.\n",
        "\n",
        "@classmethod takes cls as the first argument, giving it access to class variables and other class methods. It's often used for factory methods or modifying class-level data."
      ],
      "metadata": {
        "id": "GYLq_0eV9uiy"
      }
    },
    {
      "cell_type": "markdown",
      "source": [
        "Ques 23- Polymorphism in Python with inheritance allows different classes in the same hierarchy to define methods with the same name but different implementations.\n",
        "When a subclass overrides a method from its parent class, calling that method on an object will execute the version defined in the object's actual class, enabling flexible and reusable code."
      ],
      "metadata": {
        "id": "ekloUV0i96Ip"
      }
    },
    {
      "cell_type": "markdown",
      "source": [
        "Ques 24-\n",
        "Method chaining in Python OOP is a technique where multiple methods are called in a single line on the same object.\n",
        "Each method returns the object (self) so that the next method can be called immediately, making the code concise and readable."
      ],
      "metadata": {
        "id": "ywbUpjPi99XQ"
      }
    },
    {
      "cell_type": "markdown",
      "source": [
        "Ques 25-\n",
        "The __call__ method in Python allows an object of a class to be called like a function.\n",
        "When defined, you can use parentheses after the object’s name, and Python will execute the code inside __call__."
      ],
      "metadata": {
        "id": "1aSSAbAR-Hhj"
      }
    },
    {
      "cell_type": "markdown",
      "source": [
        "**Practical Questions**"
      ],
      "metadata": {
        "id": "OCMB_S1P-KVN"
      }
    },
    {
      "cell_type": "code",
      "source": [
        "#Ques 1\n",
        "class Animal:\n",
        "    def speak(self):\n",
        "        print(\"Some generic animal sound\")\n",
        "\n",
        "class Dog(Animal):\n",
        "    def speak(self):\n",
        "        print(\"Bark!\")\n"
      ],
      "metadata": {
        "id": "0oiBzV7w-eLx"
      },
      "execution_count": 1,
      "outputs": []
    },
    {
      "cell_type": "code",
      "source": [
        "a = Animal()\n",
        "a.speak()"
      ],
      "metadata": {
        "colab": {
          "base_uri": "https://localhost:8080/"
        },
        "id": "6Kxw-ckJ-k2z",
        "outputId": "0d6e6056-3e22-4afb-dd5f-832d8db7dadd"
      },
      "execution_count": 2,
      "outputs": [
        {
          "output_type": "stream",
          "name": "stdout",
          "text": [
            "Some generic animal sound\n"
          ]
        }
      ]
    },
    {
      "cell_type": "code",
      "source": [
        "d = Dog()\n",
        "d.speak()"
      ],
      "metadata": {
        "colab": {
          "base_uri": "https://localhost:8080/"
        },
        "id": "pkzn02vd-tFN",
        "outputId": "e22927be-491b-4c2b-ee1b-5337c21f062b"
      },
      "execution_count": 3,
      "outputs": [
        {
          "output_type": "stream",
          "name": "stdout",
          "text": [
            "Bark!\n"
          ]
        }
      ]
    },
    {
      "cell_type": "code",
      "source": [
        "#QUES2\n",
        "from abc import ABC, abstractmethod\n",
        "import math\n",
        "\n",
        "class Shape(ABC):\n",
        "    @abstractmethod\n",
        "    def area(self):\n",
        "        pass\n",
        "\n",
        "class Circle(Shape):\n",
        "    def __init__(self, radius):\n",
        "        self.radius = radius\n",
        "\n",
        "    def area(self):\n",
        "        return math.pi * self.radius ** 2\n",
        "\n",
        "class Rectangle(Shape):\n",
        "    def __init__(self, length, width):\n",
        "        self.length = length\n",
        "        self.width = width\n",
        "\n",
        "    def area(self):\n",
        "        return self.length * self.width\n"
      ],
      "metadata": {
        "id": "tfejRsd3-tkH"
      },
      "execution_count": 4,
      "outputs": []
    },
    {
      "cell_type": "code",
      "source": [
        "c = Circle(5)\n",
        "print(\"Circle area:\", c.area())\n",
        "\n",
        "r = Rectangle(4, 6)\n",
        "print(\"Rectangle area:\", r.area())"
      ],
      "metadata": {
        "colab": {
          "base_uri": "https://localhost:8080/"
        },
        "id": "ORHVIHYS_B8O",
        "outputId": "f0415dae-e549-4ba8-b2e6-62f94fd17b94"
      },
      "execution_count": 5,
      "outputs": [
        {
          "output_type": "stream",
          "name": "stdout",
          "text": [
            "Circle area: 78.53981633974483\n",
            "Rectangle area: 24\n"
          ]
        }
      ]
    },
    {
      "cell_type": "code",
      "source": [
        "#QUES 3\n",
        "class Vehicle:\n",
        "    def __init__(self, vehicle_type):\n",
        "        self.vehicle_type = vehicle_type\n",
        "\n",
        "    def display_info(self):\n",
        "        print(f\"Vehicle Type: {self.vehicle_type}\")\n",
        "\n",
        "class Car(Vehicle):\n",
        "    def __init__(self, vehicle_type, brand):\n",
        "        super().__init__(vehicle_type)\n",
        "        self.brand = brand\n",
        "\n",
        "    def display_info(self):\n",
        "        super().display_info()\n",
        "        print(f\"Brand: {self.brand}\")\n",
        "\n",
        "class ElectricCar(Car):\n",
        "    def __init__(self, vehicle_type, brand, battery_capacity):\n",
        "        super().__init__(vehicle_type, brand)\n",
        "        self.battery_capacity = battery_capacity\n",
        "\n",
        "    def display_info(self):\n",
        "        super().display_info()\n",
        "        print(f\"Battery Capacity: {self.battery_capacity} kWh\")"
      ],
      "metadata": {
        "id": "bX1VPvn4_GAJ"
      },
      "execution_count": 6,
      "outputs": []
    },
    {
      "cell_type": "code",
      "source": [
        "e_car = ElectricCar(\"Four-wheeler\", \"Tesla\", 75)\n",
        "e_car.display_info()"
      ],
      "metadata": {
        "colab": {
          "base_uri": "https://localhost:8080/"
        },
        "id": "ztc3kVYl_df4",
        "outputId": "ad75bacf-41d5-44d1-d471-3a51d35aaa16"
      },
      "execution_count": 7,
      "outputs": [
        {
          "output_type": "stream",
          "name": "stdout",
          "text": [
            "Vehicle Type: Four-wheeler\n",
            "Brand: Tesla\n",
            "Battery Capacity: 75 kWh\n"
          ]
        }
      ]
    },
    {
      "cell_type": "code",
      "source": [
        "#ques 4\n",
        "class Bird:\n",
        "    def fly(self):\n",
        "        print(\"Birds can fly in different ways.\")\n",
        "\n",
        "class Sparrow(Bird):\n",
        "    def fly(self):\n",
        "        print(\"Sparrow flies high and fast.\")\n",
        "\n",
        "class Penguin(Bird):\n",
        "    def fly(self):\n",
        "        print(\"Penguins can't fly, they swim instead.\")\n"
      ],
      "metadata": {
        "id": "2l6-5Ge7_gbO"
      },
      "execution_count": 8,
      "outputs": []
    },
    {
      "cell_type": "code",
      "source": [
        "birds = [Sparrow(), Penguin()]\n",
        "\n",
        "for bird in birds:\n",
        "    bird.fly()"
      ],
      "metadata": {
        "colab": {
          "base_uri": "https://localhost:8080/"
        },
        "id": "8QkuuJmo_8ko",
        "outputId": "28545f7a-a320-472f-c4c9-91af4e7bc36b"
      },
      "execution_count": 9,
      "outputs": [
        {
          "output_type": "stream",
          "name": "stdout",
          "text": [
            "Sparrow flies high and fast.\n",
            "Penguins can't fly, they swim instead.\n"
          ]
        }
      ]
    },
    {
      "cell_type": "code",
      "source": [
        "#Ques 5\n",
        "class BankAccount:\n",
        "    def __init__(self, initial_balance=0):\n",
        "        self.__balance = initial_balance  # Private attribute\n",
        "\n",
        "    def deposit(self, amount):\n",
        "        if amount > 0:\n",
        "            self.__balance += amount\n",
        "            print(f\"Deposited: {amount}\")\n",
        "        else:\n",
        "            print(\"Deposit amount must be positive.\")\n",
        "\n",
        "    def withdraw(self, amount):\n",
        "        if 0 < amount <= self.__balance:\n",
        "            self.__balance -= amount\n",
        "            print(f\"Withdrew: {amount}\")\n",
        "        else:\n",
        "            print(\"Invalid withdrawal amount or insufficient funds.\")\n",
        "\n",
        "    def check_balance(self):\n",
        "        print(f\"Current Balance: {self.__balance}\")"
      ],
      "metadata": {
        "id": "HciWF4h7_-DG"
      },
      "execution_count": 10,
      "outputs": []
    },
    {
      "cell_type": "code",
      "source": [
        "account = BankAccount(1000)\n",
        "account.deposit(500)\n",
        "account.withdraw(200)\n",
        "account.check_balance()"
      ],
      "metadata": {
        "colab": {
          "base_uri": "https://localhost:8080/"
        },
        "id": "CE-Mi861AQM6",
        "outputId": "17c0a485-3de0-444d-b837-07d775475247"
      },
      "execution_count": 11,
      "outputs": [
        {
          "output_type": "stream",
          "name": "stdout",
          "text": [
            "Deposited: 500\n",
            "Withdrew: 200\n",
            "Current Balance: 1300\n"
          ]
        }
      ]
    },
    {
      "cell_type": "code",
      "source": [
        "#ques 6\n",
        "class Instrument:\n",
        "    def play(self):\n",
        "        print(\"Playing an instrument...\")\n",
        "\n",
        "class Guitar(Instrument):\n",
        "    def play(self):\n",
        "        print(\"Strumming the guitar...\")\n",
        "\n",
        "class Piano(Instrument):\n",
        "    def play(self):\n",
        "        print(\"Playing the piano...\")\n",
        "\n",
        "# Function to demonstrate runtime polymorphism\n",
        "def start_playing(instrument):\n",
        "    instrument.play()"
      ],
      "metadata": {
        "id": "s8TR4P_XASwS"
      },
      "execution_count": 12,
      "outputs": []
    },
    {
      "cell_type": "code",
      "source": [
        "g = Guitar()\n",
        "p = Piano()\n",
        "\n",
        "start_playing(g)\n",
        "start_playing(p)"
      ],
      "metadata": {
        "colab": {
          "base_uri": "https://localhost:8080/"
        },
        "id": "Nlvl1QlMAuQn",
        "outputId": "887fdfbd-d079-4d7d-e34b-4382646276df"
      },
      "execution_count": 13,
      "outputs": [
        {
          "output_type": "stream",
          "name": "stdout",
          "text": [
            "Strumming the guitar...\n",
            "Playing the piano...\n"
          ]
        }
      ]
    },
    {
      "cell_type": "code",
      "source": [
        "#Ques -7\n",
        "class MathOperations:\n",
        "    @classmethod\n",
        "    def add_numbers(cls, a, b):\n",
        "        return a + b\n",
        "\n",
        "    @staticmethod\n",
        "    def subtract_numbers(a, b):\n",
        "        return a - b\n",
        "print(MathOperations.add_numbers(10, 5))     # 15\n",
        "print(MathOperations.subtract_numbers(10, 5))"
      ],
      "metadata": {
        "colab": {
          "base_uri": "https://localhost:8080/"
        },
        "id": "7elSkIOpAzXL",
        "outputId": "0578268a-600f-4e34-84c6-e4902e1f31b5"
      },
      "execution_count": 15,
      "outputs": [
        {
          "output_type": "stream",
          "name": "stdout",
          "text": [
            "15\n",
            "5\n"
          ]
        }
      ]
    },
    {
      "cell_type": "code",
      "source": [
        "#Ques 8\n",
        "class Person:\n",
        "    count = 0  # Class variable to keep track of persons created\n",
        "\n",
        "    def __init__(self, name):\n",
        "        self.name = name\n",
        "        Person.count += 1\n",
        "\n",
        "    @classmethod\n",
        "    def total_persons(cls):\n",
        "        return cls.count\n",
        "\n",
        "# Example usage\n",
        "p1 = Person(\"Alice\")\n",
        "p2 = Person(\"Bob\")\n",
        "p3 = Person(\"Charlie\")\n",
        "\n",
        "print(\"Total persons created:\", Person.total_persons())\n"
      ],
      "metadata": {
        "colab": {
          "base_uri": "https://localhost:8080/"
        },
        "id": "yfjf1TEaA__g",
        "outputId": "813e01d1-276c-4cdc-e48b-83d7fbb55bcd"
      },
      "execution_count": 16,
      "outputs": [
        {
          "output_type": "stream",
          "name": "stdout",
          "text": [
            "Total persons created: 3\n"
          ]
        }
      ]
    },
    {
      "cell_type": "code",
      "source": [
        "#ques 9\n",
        "class Fraction:\n",
        "    def __init__(self, numerator, denominator):\n",
        "        self.numerator = numerator\n",
        "        self.denominator = denominator\n",
        "\n",
        "    def __str__(self):\n",
        "        return f\"{self.numerator}/{self.denominator}\"\n",
        "\n",
        "# Example usage\n",
        "f1 = Fraction(3, 4)\n",
        "f2 = Fraction(7, 2)\n",
        "\n",
        "print(f1)  # Output: 3/4\n",
        "print(f2)"
      ],
      "metadata": {
        "colab": {
          "base_uri": "https://localhost:8080/"
        },
        "id": "R6ChfiNjBVtr",
        "outputId": "ee7538ae-1b65-4d11-f1c9-002a833ab7c5"
      },
      "execution_count": 17,
      "outputs": [
        {
          "output_type": "stream",
          "name": "stdout",
          "text": [
            "3/4\n",
            "7/2\n"
          ]
        }
      ]
    },
    {
      "cell_type": "code",
      "source": [
        "#Ques 10-\n",
        "class Vector:\n",
        "    def __init__(self, x, y):\n",
        "        self.x = x\n",
        "        self.y = y\n",
        "\n",
        "    def __add__(self, other):\n",
        "        return Vector(self.x + other.x, self.y + other.y)\n",
        "\n",
        "    def __str__(self):\n",
        "        return f\"Vector({self.x}, {self.y})\"\n",
        "\n",
        "# Example usage\n",
        "v1 = Vector(2, 3)\n",
        "v2 = Vector(4, 5)\n",
        "\n",
        "v3 = v1 + v2\n",
        "print(v3)"
      ],
      "metadata": {
        "colab": {
          "base_uri": "https://localhost:8080/"
        },
        "id": "kKP5rXHyCPek",
        "outputId": "09d40e17-56b3-49d0-eba9-014ef3342075"
      },
      "execution_count": 18,
      "outputs": [
        {
          "output_type": "stream",
          "name": "stdout",
          "text": [
            "Vector(6, 8)\n"
          ]
        }
      ]
    },
    {
      "cell_type": "code",
      "source": [
        "#Ques 11-\n",
        "class Person:\n",
        "    def __init__(self, name, age):\n",
        "        self.name = name\n",
        "        self.age = age\n",
        "\n",
        "    def greet(self):\n",
        "        print(f\"Hello, my name is {self.name} and I am {self.age} years old.\")\n",
        "\n",
        "# Example usage\n",
        "p1 = Person(\"Alice\", 25)\n",
        "p1.greet()"
      ],
      "metadata": {
        "colab": {
          "base_uri": "https://localhost:8080/"
        },
        "id": "HaouTXaYCnX1",
        "outputId": "449f1284-332b-45ef-f57e-540329178631"
      },
      "execution_count": 19,
      "outputs": [
        {
          "output_type": "stream",
          "name": "stdout",
          "text": [
            "Hello, my name is Alice and I am 25 years old.\n"
          ]
        }
      ]
    },
    {
      "cell_type": "code",
      "source": [
        "#Ques 12\n",
        "class Student:\n",
        "    def __init__(self, name, grades):\n",
        "        self.name = name\n",
        "        self.grades = grades\n",
        "\n",
        "    def average_grade(self):\n",
        "        return sum(self.grades) / len(self.grades) if self.grades else 0\n",
        "\n",
        "# Example usage\n",
        "s1 = Student(\"John\", [85, 90, 78])\n",
        "print(f\"Average grade for {s1.name}: {s1.average_grade()}\")"
      ],
      "metadata": {
        "colab": {
          "base_uri": "https://localhost:8080/"
        },
        "id": "EdGg2hPqC-ok",
        "outputId": "4f17493b-c64f-459e-8d0d-4d2535a8d846"
      },
      "execution_count": 21,
      "outputs": [
        {
          "output_type": "stream",
          "name": "stdout",
          "text": [
            "Average grade for John: 84.33333333333333\n"
          ]
        }
      ]
    },
    {
      "cell_type": "code",
      "source": [
        "#Ques 13-\n",
        "class Rectangle:\n",
        "    def __init__(self):\n",
        "        self.length = 0\n",
        "        self.width = 0\n",
        "\n",
        "    def set_dimensions(self, length, width):\n",
        "        self.length = length\n",
        "        self.width = width\n",
        "\n",
        "    def area(self):\n",
        "        return self.length * self.width\n",
        "\n",
        "# Example usage\n",
        "rect = Rectangle()\n",
        "rect.set_dimensions(5, 3)\n",
        "print(f\"Area of rectangle: {rect.area()}\")"
      ],
      "metadata": {
        "colab": {
          "base_uri": "https://localhost:8080/"
        },
        "id": "SuXHZKPtDHqa",
        "outputId": "936ba0d2-a8be-43f6-9a6e-9ba209659a74"
      },
      "execution_count": 22,
      "outputs": [
        {
          "output_type": "stream",
          "name": "stdout",
          "text": [
            "Area of rectangle: 15\n"
          ]
        }
      ]
    },
    {
      "cell_type": "code",
      "source": [
        "#Ques 14-\n",
        "class Employee:\n",
        "    def calculate_salary(self, hours_worked, hourly_rate):\n",
        "        return hours_worked * hourly_rate\n",
        "\n",
        "class Manager(Employee):\n",
        "    def calculate_salary(self, hours_worked, hourly_rate, bonus):\n",
        "        base_salary = super().calculate_salary(hours_worked, hourly_rate)\n",
        "        return base_salary + bonus\n",
        "\n",
        "# Example usage\n",
        "emp = Employee()\n",
        "print(f\"Employee Salary: {emp.calculate_salary(40, 200)}\")\n",
        "\n",
        "mgr = Manager()\n",
        "print(f\"Manager Salary: {mgr.calculate_salary(40, 200, 5000)}\")"
      ],
      "metadata": {
        "colab": {
          "base_uri": "https://localhost:8080/"
        },
        "id": "m2Kin_VqDRp5",
        "outputId": "292268b9-7e9d-48c8-9c90-3c7d9c6d79ad"
      },
      "execution_count": 24,
      "outputs": [
        {
          "output_type": "stream",
          "name": "stdout",
          "text": [
            "Employee Salary: 8000\n",
            "Manager Salary: 13000\n"
          ]
        }
      ]
    },
    {
      "cell_type": "code",
      "source": [
        "#Ques15-\n",
        "class Product:\n",
        "    def __init__(self, name, price, quantity):\n",
        "        self.name = name\n",
        "        self.price = price\n",
        "        self.quantity = quantity\n",
        "\n",
        "    def total_price(self):\n",
        "        return self.price * self.quantity\n",
        "\n",
        "# Example usage\n",
        "item = Product(\"Laptop\", 55000, 2)\n",
        "print(f\"Product: {item.name}\")\n",
        "print(f\"Total Price: ₹{item.total_price()}\")"
      ],
      "metadata": {
        "colab": {
          "base_uri": "https://localhost:8080/"
        },
        "id": "3WKJQBjODgeq",
        "outputId": "ce2ea40a-947b-45ac-a41f-2ceb5322f728"
      },
      "execution_count": 25,
      "outputs": [
        {
          "output_type": "stream",
          "name": "stdout",
          "text": [
            "Product: Laptop\n",
            "Total Price: ₹110000\n"
          ]
        }
      ]
    },
    {
      "cell_type": "code",
      "source": [
        "#Ques 16-\n",
        "from abc import ABC, abstractmethod\n",
        "\n",
        "class Animal(ABC):\n",
        "    @abstractmethod\n",
        "    def sound(self):\n",
        "        pass\n",
        "\n",
        "class Cow(Animal):\n",
        "    def sound(self):\n",
        "        return \"Moo\"\n",
        "\n",
        "class Sheep(Animal):\n",
        "    def sound(self):\n",
        "        return \"Baa\"\n",
        "\n",
        "# Example usage\n",
        "cow = Cow()\n",
        "sheep = Sheep()\n",
        "\n",
        "print(\"Cow:\", cow.sound())\n",
        "print(\"Sheep:\", sheep.sound())"
      ],
      "metadata": {
        "colab": {
          "base_uri": "https://localhost:8080/"
        },
        "id": "0bT6hezYDvB8",
        "outputId": "429c68da-f1e6-4bf8-92bf-1780f2c98fd0"
      },
      "execution_count": 26,
      "outputs": [
        {
          "output_type": "stream",
          "name": "stdout",
          "text": [
            "Cow: Moo\n",
            "Sheep: Baa\n"
          ]
        }
      ]
    },
    {
      "cell_type": "code",
      "source": [
        "#ques 17-\n",
        "class Book:\n",
        "    def __init__(self, title, author, year_published):\n",
        "        self.title = title\n",
        "        self.author = author\n",
        "        self.year_published = year_published\n",
        "\n",
        "    def get_book_info(self):\n",
        "        return f\"'{self.title}' by {self.author}, published in {self.year_published}\"\n",
        "\n",
        "# Example usage\n",
        "book1 = Book(\"The Great Gatsby\", \"F. Scott Fitzgerald\", 1925)\n",
        "print(book1.get_book_info())"
      ],
      "metadata": {
        "colab": {
          "base_uri": "https://localhost:8080/"
        },
        "id": "0dxkvLGJD4bS",
        "outputId": "5d17cacc-f36b-4014-c390-3c468f4dcd23"
      },
      "execution_count": 27,
      "outputs": [
        {
          "output_type": "stream",
          "name": "stdout",
          "text": [
            "'The Great Gatsby' by F. Scott Fitzgerald, published in 1925\n"
          ]
        }
      ]
    },
    {
      "cell_type": "code",
      "source": [
        "#Ques 18-\n",
        "class House:\n",
        "    def __init__(self, address, price):\n",
        "        self.address = address\n",
        "        self.price = price\n",
        "\n",
        "class Mansion(House):\n",
        "    def __init__(self, address, price, number_of_rooms):\n",
        "        super().__init__(address, price)\n",
        "        self.number_of_rooms = number_of_rooms\n",
        "\n",
        "# Example usage\n",
        "mansion1 = Mansion(\"123 Luxury St\", 5000000, 10)\n",
        "print(f\"Address: {mansion1.address}, Price: {mansion1.price}, Rooms: {mansion1.number_of_rooms}\")"
      ],
      "metadata": {
        "colab": {
          "base_uri": "https://localhost:8080/"
        },
        "id": "jn2pjmc6D_6A",
        "outputId": "89e68128-8d04-43db-9f9c-95a299d3c192"
      },
      "execution_count": 28,
      "outputs": [
        {
          "output_type": "stream",
          "name": "stdout",
          "text": [
            "Address: 123 Luxury St, Price: 5000000, Rooms: 10\n"
          ]
        }
      ]
    },
    {
      "cell_type": "code",
      "source": [],
      "metadata": {
        "id": "DK8sAfJfEJNf"
      },
      "execution_count": null,
      "outputs": []
    }
  ]
}